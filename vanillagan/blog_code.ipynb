{
 "cells": [
  {
   "cell_type": "code",
   "execution_count": 4,
   "metadata": {},
   "outputs": [],
   "source": [
    "import os\n",
    "import tensorflow as tf\n",
    "from tensorflow.examples.tutorials.mnist import input_data\n",
    "import numpy as np\n",
    "import matplotlib.pyplot as plt\n",
    "%matplotlib inline\n",
    "import cv2"
   ]
  },
  {
   "cell_type": "code",
   "execution_count": 2,
   "metadata": {},
   "outputs": [
    {
     "name": "stdout",
     "output_type": "stream",
     "text": [
      "WARNING:tensorflow:From <ipython-input-2-05e9bfcd3c17>:1: read_data_sets (from tensorflow.contrib.learn.python.learn.datasets.mnist) is deprecated and will be removed in a future version.\n",
      "Instructions for updating:\n",
      "Please use alternatives such as official/mnist/dataset.py from tensorflow/models.\n",
      "WARNING:tensorflow:From /usr/local/lib/python3.5/dist-packages/tensorflow/contrib/learn/python/learn/datasets/mnist.py:260: maybe_download (from tensorflow.contrib.learn.python.learn.datasets.base) is deprecated and will be removed in a future version.\n",
      "Instructions for updating:\n",
      "Please write your own downloading logic.\n",
      "WARNING:tensorflow:From /usr/local/lib/python3.5/dist-packages/tensorflow/contrib/learn/python/learn/datasets/mnist.py:262: extract_images (from tensorflow.contrib.learn.python.learn.datasets.mnist) is deprecated and will be removed in a future version.\n",
      "Instructions for updating:\n",
      "Please use tf.data to implement this functionality.\n",
      "Extracting ../data/mnist/train-images-idx3-ubyte.gz\n",
      "WARNING:tensorflow:From /usr/local/lib/python3.5/dist-packages/tensorflow/contrib/learn/python/learn/datasets/mnist.py:267: extract_labels (from tensorflow.contrib.learn.python.learn.datasets.mnist) is deprecated and will be removed in a future version.\n",
      "Instructions for updating:\n",
      "Please use tf.data to implement this functionality.\n",
      "Extracting ../data/mnist/train-labels-idx1-ubyte.gz\n",
      "Extracting ../data/mnist/t10k-images-idx3-ubyte.gz\n",
      "Extracting ../data/mnist/t10k-labels-idx1-ubyte.gz\n",
      "WARNING:tensorflow:From /usr/local/lib/python3.5/dist-packages/tensorflow/contrib/learn/python/learn/datasets/mnist.py:290: DataSet.__init__ (from tensorflow.contrib.learn.python.learn.datasets.mnist) is deprecated and will be removed in a future version.\n",
      "Instructions for updating:\n",
      "Please use alternatives such as official/mnist/dataset.py from tensorflow/models.\n"
     ]
    },
    {
     "data": {
      "text/plain": [
       "<matplotlib.image.AxesImage at 0x7f2f620a2ac8>"
      ]
     },
     "execution_count": 2,
     "metadata": {},
     "output_type": "execute_result"
    },
    {
     "data": {
      "image/png": "[encoded data removed]",
      "text/plain": [
       "<Figure size 432x288 with 1 Axes>"
      ]
     },
     "metadata": {},
     "output_type": "display_data"
    }
   ],
   "source": [
    "mnist = input_data.read_data_sets(\"../data/mnist\")\n",
    "plt.imshow(mnist.train.images[4].reshape(28,28))"
   ]
  },
  {
   "cell_type": "markdown",
   "metadata": {},
   "source": [
    "### generator"
   ]
  },
  {
   "cell_type": "code",
   "execution_count": 3,
   "metadata": {},
   "outputs": [],
   "source": [
    "# wil take a random noise (z) and return the reconstructed image\n",
    "def GN(z,reuse=None):\n",
    "    \n",
    "    with tf.variable_scope('gen',reuse=reuse):\n",
    "        layer1 = tf.layers.dense(z,256,activation=tf.nn.relu)\n",
    "        layer2 = tf.layers.dense(layer1,512,activation=tf.nn.relu)\n",
    "        output = tf.layers.dense(layer2,784,activation=tf.nn.tanh)\n",
    "\n",
    "        return output"
   ]
  },
  {
   "cell_type": "markdown",
   "metadata": {},
   "source": [
    "### discriminator"
   ]
  },
  {
   "cell_type": "code",
   "execution_count": 4,
   "metadata": {},
   "outputs": [],
   "source": [
    "# will take an image x and will predict whether that belongs\n",
    "# to data sample or random sample\n",
    "def DN(X,reuse=None):\n",
    "    \n",
    "    with tf.variable_scope('dis',reuse=reuse):\n",
    "        layer1 = tf.layers.dense(X,256,activation=tf.nn.relu)\n",
    "        layer2 = tf.layers.dense(layer1,128,activation=tf.nn.relu)\n",
    "        output = tf.layers.dense(layer2,1,activation=tf.nn.sigmoid)\n",
    "\n",
    "        return output"
   ]
  },
  {
   "cell_type": "code",
   "execution_count": 5,
   "metadata": {},
   "outputs": [],
   "source": [
    "# defining placeholders for real image and noise input\n",
    "with tf.name_scope('placeholders'):\n",
    "    real_image = tf.placeholder(tf.float32,shape=(None,784))\n",
    "    z = tf.placeholder(tf.float32,shape=(None,100))"
   ]
  },
  {
   "cell_type": "code",
   "execution_count": 6,
   "metadata": {},
   "outputs": [],
   "source": [
    "# taking input from the Discriminator and Generator networks\n",
    "with tf.name_scope('logits'):\n",
    "    fake_image = GN(z)\n",
    "\n",
    "    real_logit = DN(real_image)\n",
    "    fake_logit = DN(fake_image,reuse=True)"
   ]
  },
  {
   "cell_type": "markdown",
   "metadata": {},
   "source": [
    "### loss"
   ]
  },
  {
   "cell_type": "code",
   "execution_count": 8,
   "metadata": {},
   "outputs": [],
   "source": [
    "# loss function \n",
    "dloss = -tf.reduce_mean(tf.log(real_logit)+tf.log(1. - fake_logit))\n",
    "gloss = -tf.reduce_mean(tf.log(fake_logit))"
   ]
  },
  {
   "cell_type": "code",
   "execution_count": 9,
   "metadata": {},
   "outputs": [],
   "source": [
    "# separating the variables for separately training discriminator and generator network\n",
    "allvars = tf.trainable_variables()\n",
    "dvars = [var for var in allvars if 'dis' in var.name]\n",
    "gvars = [var for var in allvars if 'gen' in var.name]"
   ]
  },
  {
   "cell_type": "markdown",
   "metadata": {},
   "source": [
    "### optimisers"
   ]
  },
  {
   "cell_type": "code",
   "execution_count": 10,
   "metadata": {},
   "outputs": [],
   "source": [
    "# defining separate optimizers for discriminator and generator\n",
    "with tf.variable_scope('optimizer',reuse=tf.AUTO_REUSE):\n",
    "    \n",
    "    doptimizer = tf.train.AdamOptimizer(learning_rate=0.0001).minimize(dloss,var_list=dvars)\n",
    "    goptimizer = tf.train.AdamOptimizer(learning_rate=0.0001).minimize(gloss,var_list=gvars)"
   ]
  },
  {
   "cell_type": "markdown",
   "metadata": {},
   "source": [
    "### global variables "
   ]
  },
  {
   "cell_type": "code",
   "execution_count": 3,
   "metadata": {},
   "outputs": [],
   "source": [
    "# defining the global variables\n",
    "batch_size = 100\n",
    "epoch = 100"
   ]
  },
  {
   "cell_type": "markdown",
   "metadata": {},
   "source": [
    "### training"
   ]
  },
  {
   "cell_type": "code",
   "execution_count": 12,
   "metadata": {},
   "outputs": [],
   "source": [
    "# training\n",
    "with tf.Session(config=tf.ConfigProto(gpu_options=gpu_options)) as sess:\n",
    "    saver = tf.train.Saver()\n",
    "    sess.run(tf.global_variables_initializer())\n",
    "    for epoch in range(epoch):\n",
    "        \n",
    "        # looping over the dataset\n",
    "        for i in range(mnist.train.num_examples//batch_size):\n",
    "            \n",
    "            # taking next batch of data\n",
    "            batch_data = mnist.train.next_batch(batch_size=batch_size)\n",
    "            # reshaping the batch of data\n",
    "            ximage = batch_data[0].reshape((batch_size,784))\n",
    "            # randomly sampling a noise from uniform distribution\n",
    "            xsample = np.random.uniform(-1.,1.,size=(batch_size,100))\n",
    "            \n",
    "            # optimising\n",
    "            sess.run(doptimizer,feed_dict={real_image:ximage,z:xsample})\n",
    "            sess.run(goptimizer,feed_dict={z:xsample})\n",
    "            \n",
    "            # printing the loss values\n",
    "            if(i%500==0 and epoch%10==0):\n",
    "                l1 = sess.run(dloss,feed_dict={real_image:ximage,z:xsample})\n",
    "                l2 = sess.run(gloss,feed_dict={z:xsample})\n",
    "                print(\"after {} losses : Descriptor : {} Generator : {}\\n\".format(i,l1,l2))\n",
    "        \n",
    "        print(\"On epoch {}\".format(epoch))\n",
    "        \n",
    "        # generating samples after each epoch\n",
    "        cur_sample = np.random.uniform(-1,1,size=(1,100))\n",
    "        gen_sample = sess.run(fake_image,feed_dict={z:cur_sample})\n",
    "        gen_sample = gen_sample.reshape(28,28)\n",
    "        \n",
    "        # saving the image after each epoch\n",
    "        cv2.imwrite(\"image_\"+str(epoch),gen_sample)\n",
    "        \n",
    "        # saving the model after each epoch\n",
    "        saver.save(sess,'./model.ckpt')"
   ]
  },
  {
   "cell_type": "code",
   "execution_count": null,
   "metadata": {},
   "outputs": [],
   "source": []
  },
  {
   "cell_type": "code",
   "execution_count": null,
   "metadata": {},
   "outputs": [],
   "source": []
  }
 ],
 "metadata": {
  "kernelspec": {
   "display_name": "Python 3",
   "language": "python",
   "name": "python3"
  },
  "language_info": {
   "codemirror_mode": {
    "name": "ipython",
    "version": 3
   },
   "file_extension": ".py",
   "mimetype": "text/x-python",
   "name": "python",
   "nbconvert_exporter": "python",
   "pygments_lexer": "ipython3",
   "version": "3.6.5"
  }
 },
 "nbformat": 4,
 "nbformat_minor": 2
}
