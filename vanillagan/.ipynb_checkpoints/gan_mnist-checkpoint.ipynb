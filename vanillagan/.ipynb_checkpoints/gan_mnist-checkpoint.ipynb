{
 "cells": [
  {
   "cell_type": "code",
   "execution_count": 1,
   "metadata": {},
   "outputs": [
    {
     "data": {
      "text/html": [
       "<style>.container { width:100% !important; }</style>"
      ],
      "text/plain": [
       "<IPython.core.display.HTML object>"
      ]
     },
     "metadata": {},
     "output_type": "display_data"
    }
   ],
   "source": [
    "# stretching the cells\n",
    "from IPython.core.display import display, HTML\n",
    "display(HTML(\"<style>.container { width:100% !important; }</style>\"))\n",
    "\n",
    "# cuda settings\n",
    "import os\n",
    "import tensorflow as tf\n",
    "os.environ[\"CUDA_VISIBLE_DEVICES\"]=\"1\"\n",
    "os.environ[\"CUDA_DEVICE_ORDER\"]=\"PCI_BUS_ID\"\n",
    "gpu_options = tf.GPUOptions(per_process_gpu_memory_fraction=0.50)"
   ]
  },
  {
   "cell_type": "code",
   "execution_count": 2,
   "metadata": {},
   "outputs": [],
   "source": [
    "from tensorflow.examples.tutorials.mnist import input_data\n",
    "import numpy as np\n",
    "import matplotlib.pyplot as plt\n",
    "%matplotlib inline"
   ]
  },
  {
   "cell_type": "code",
   "execution_count": 4,
   "metadata": {},
   "outputs": [
    {
     "name": "stdout",
     "output_type": "stream",
     "text": [
      "Extracting ../data/mnist/train-images-idx3-ubyte.gz\n",
      "Extracting ../data/mnist/train-labels-idx1-ubyte.gz\n",
      "Extracting ../data/mnist/t10k-images-idx3-ubyte.gz\n",
      "Extracting ../data/mnist/t10k-labels-idx1-ubyte.gz\n"
     ]
    }
   ],
   "source": [
    "mnist = input_data.read_data_sets(\"../data/mnist\")"
   ]
  },
  {
   "cell_type": "code",
   "execution_count": 5,
   "metadata": {},
   "outputs": [
    {
     "data": {
      "text/plain": [
       "<matplotlib.image.AxesImage at 0x7fc0b33776d8>"
      ]
     },
     "execution_count": 5,
     "metadata": {},
     "output_type": "execute_result"
    },
    {
     "data": {
      "image/png": "[encoded data removed]",
      "text/plain": [
       "<Figure size 432x288 with 1 Axes>"
      ]
     },
     "metadata": {},
     "output_type": "display_data"
    }
   ],
   "source": [
    "plt.imshow(mnist.train.images[4].reshape(28,28))"
   ]
  },
  {
   "cell_type": "code",
   "execution_count": 6,
   "metadata": {},
   "outputs": [],
   "source": [
    "# wil take a random noise (z) and return the reconstructed image\n",
    "def GN(z,reuse=None):\n",
    "    \n",
    "    with tf.variable_scope('gen',reuse=reuse):\n",
    "        layer1 = tf.layers.dense(z,256,activation=tf.nn.relu)\n",
    "        layer2 = tf.layers.dense(layer1,512,activation=tf.nn.relu)\n",
    "        output = tf.layers.dense(layer2,784,activation=tf.nn.tanh)\n",
    "\n",
    "        return output\n",
    "    "
   ]
  },
  {
   "cell_type": "code",
   "execution_count": 7,
   "metadata": {},
   "outputs": [],
   "source": [
    "# will take an image x and will predict whether that belongs\n",
    "# to data sample or random sample\n",
    "def DN(X,reuse=None):\n",
    "    \n",
    "    with tf.variable_scope('dis',reuse=reuse):\n",
    "        layer1 = tf.layers.dense(X,256,activation=tf.nn.relu)\n",
    "        layer2 = tf.layers.dense(layer1,128,activation=tf.nn.relu)\n",
    "        output = tf.layers.dense(layer2,1)\n",
    "\n",
    "        return output"
   ]
  },
  {
   "cell_type": "code",
   "execution_count": 8,
   "metadata": {},
   "outputs": [],
   "source": [
    "with tf.name_scope('placeholders'):\n",
    "    real_image = tf.placeholder(tf.float32,shape=(None,784))\n",
    "    z = tf.placeholder(tf.float32,shape=(None,100))"
   ]
  },
  {
   "cell_type": "code",
   "execution_count": 9,
   "metadata": {},
   "outputs": [],
   "source": [
    "with tf.name_scope('logits'):\n",
    "    fake_image = GN(z)\n",
    "\n",
    "    real_logit = DN(real_image)\n",
    "    fake_logit = DN(fake_image,reuse=True)"
   ]
  },
  {
   "cell_type": "code",
   "execution_count": 10,
   "metadata": {},
   "outputs": [],
   "source": [
    "with tf.name_scope('losses'):\n",
    "    real_loss = tf.reduce_mean(tf.nn.sigmoid_cross_entropy_with_logits(logits=real_logit,labels=tf.ones_like(real_logit)*0.9))\n",
    "    fake_loss = tf.reduce_mean(tf.nn.sigmoid_cross_entropy_with_logits(logits=fake_logit,labels=tf.zeros_like(fake_logit)))\n",
    "    \n",
    "    dloss = real_loss+fake_loss\n",
    "    gloss = tf.reduce_mean(tf.nn.sigmoid_cross_entropy_with_logits(logits=fake_logit,labels=tf.ones_like(fake_logit)*0.9))\n",
    "    "
   ]
  },
  {
   "cell_type": "code",
   "execution_count": 11,
   "metadata": {},
   "outputs": [],
   "source": [
    "# alternate loss function as described by ian goodfellow\n",
    "# dloss = -tf.reduce_mean(tf.log(real_logit_prob)+tf.log(1. - fake_logit_prob))\n",
    "# gloss = -tf.reduce_mean(tf.log(fake_logit_prob))"
   ]
  },
  {
   "cell_type": "code",
   "execution_count": 12,
   "metadata": {},
   "outputs": [],
   "source": [
    "with tf.name_scope('varaibles'):\n",
    "    allvars = tf.trainable_variables()\n",
    "    dvars = [var for var in allvars if 'dis' in var.name]\n",
    "    gvars = [var for var in allvars if 'gen' in var.name]"
   ]
  },
  {
   "cell_type": "code",
   "execution_count": 13,
   "metadata": {},
   "outputs": [],
   "source": [
    "with tf.variable_scope('optimizer',reuse=tf.AUTO_REUSE):\n",
    "    \n",
    "    doptimizer = tf.train.AdamOptimizer(learning_rate=0.0001).minimize(dloss,var_list=dvars)\n",
    "    goptimizer = tf.train.AdamOptimizer(learning_rate=0.0001).minimize(gloss,var_list=gvars)"
   ]
  },
  {
   "cell_type": "code",
   "execution_count": 15,
   "metadata": {},
   "outputs": [],
   "source": [
    "batch_size = 100\n",
    "epoch = 100\n",
    "new_generated_images=[]    "
   ]
  },
  {
   "cell_type": "code",
   "execution_count": 16,
   "metadata": {},
   "outputs": [
    {
     "name": "stdout",
     "output_type": "stream",
     "text": [
      "after 0 losses : Descriptor : 1.4084502458572388 Generator : 0.6944494843482971\n",
      "\n",
      "after 500 losses : Descriptor : 0.783744752407074 Generator : 1.5243057012557983\n",
      "\n",
      "On epoch 0\n",
      "On epoch 1\n",
      "On epoch 2\n",
      "On epoch 3\n",
      "On epoch 4\n",
      "On epoch 5\n",
      "On epoch 6\n",
      "On epoch 7\n",
      "On epoch 8\n",
      "On epoch 9\n",
      "after 0 losses : Descriptor : 0.5084452033042908 Generator : 2.7426679134368896\n",
      "\n",
      "after 500 losses : Descriptor : 0.42904311418533325 Generator : 3.156341552734375\n",
      "\n",
      "On epoch 10\n",
      "On epoch 11\n",
      "On epoch 12\n",
      "On epoch 13\n",
      "On epoch 14\n",
      "On epoch 15\n",
      "On epoch 16\n",
      "On epoch 17\n",
      "On epoch 18\n",
      "On epoch 19\n",
      "after 0 losses : Descriptor : 0.39062178134918213 Generator : 3.5037548542022705\n",
      "\n",
      "after 500 losses : Descriptor : 0.43876007199287415 Generator : 3.6465182304382324\n",
      "\n",
      "On epoch 20\n",
      "On epoch 21\n",
      "On epoch 22\n",
      "On epoch 23\n",
      "On epoch 24\n",
      "On epoch 25\n",
      "On epoch 26\n",
      "On epoch 27\n",
      "On epoch 28\n",
      "On epoch 29\n",
      "after 0 losses : Descriptor : 0.4584546983242035 Generator : 3.778029203414917\n",
      "\n",
      "after 500 losses : Descriptor : 0.39610952138900757 Generator : 3.684086322784424\n",
      "\n",
      "On epoch 30\n",
      "On epoch 31\n",
      "On epoch 32\n",
      "On epoch 33\n",
      "On epoch 34\n",
      "On epoch 35\n",
      "On epoch 36\n",
      "On epoch 37\n",
      "On epoch 38\n",
      "On epoch 39\n",
      "after 0 losses : Descriptor : 0.5047290325164795 Generator : 3.3879668712615967\n",
      "\n",
      "after 500 losses : Descriptor : 0.48126447200775146 Generator : 3.325566291809082\n",
      "\n",
      "On epoch 40\n",
      "On epoch 41\n",
      "On epoch 42\n",
      "On epoch 43\n",
      "On epoch 44\n",
      "On epoch 45\n",
      "On epoch 46\n",
      "On epoch 47\n",
      "On epoch 48\n",
      "On epoch 49\n",
      "after 0 losses : Descriptor : 0.5513282418251038 Generator : 3.6215322017669678\n",
      "\n",
      "after 500 losses : Descriptor : 0.6026319861412048 Generator : 2.854215383529663\n",
      "\n",
      "On epoch 50\n",
      "On epoch 51\n",
      "On epoch 52\n",
      "On epoch 53\n",
      "On epoch 54\n",
      "On epoch 55\n",
      "On epoch 56\n",
      "On epoch 57\n",
      "On epoch 58\n",
      "On epoch 59\n",
      "after 0 losses : Descriptor : 0.6272095441818237 Generator : 2.713149070739746\n",
      "\n",
      "after 500 losses : Descriptor : 0.6943196058273315 Generator : 2.2091064453125\n",
      "\n",
      "On epoch 60\n",
      "On epoch 61\n",
      "On epoch 62\n",
      "On epoch 63\n",
      "On epoch 64\n",
      "On epoch 65\n",
      "On epoch 66\n",
      "On epoch 67\n",
      "On epoch 68\n",
      "On epoch 69\n",
      "after 0 losses : Descriptor : 0.6805543899536133 Generator : 2.273756742477417\n",
      "\n",
      "after 500 losses : Descriptor : 0.7252525091171265 Generator : 2.1019439697265625\n",
      "\n",
      "On epoch 70\n",
      "On epoch 71\n",
      "On epoch 72\n",
      "On epoch 73\n",
      "On epoch 74\n",
      "On epoch 75\n",
      "On epoch 76\n",
      "On epoch 77\n",
      "On epoch 78\n",
      "On epoch 79\n",
      "after 0 losses : Descriptor : 0.900944709777832 Generator : 1.8964020013809204\n",
      "\n",
      "after 500 losses : Descriptor : 0.7820965051651001 Generator : 2.277449131011963\n",
      "\n",
      "On epoch 80\n",
      "On epoch 81\n",
      "On epoch 82\n",
      "On epoch 83\n",
      "On epoch 84\n",
      "On epoch 85\n",
      "On epoch 86\n",
      "On epoch 87\n",
      "On epoch 88\n",
      "On epoch 89\n",
      "after 0 losses : Descriptor : 0.7518612146377563 Generator : 2.031653642654419\n",
      "\n",
      "after 500 losses : Descriptor : 0.8059818148612976 Generator : 1.8620972633361816\n",
      "\n",
      "On epoch 90\n",
      "On epoch 91\n",
      "On epoch 92\n",
      "On epoch 93\n",
      "On epoch 94\n",
      "On epoch 95\n",
      "On epoch 96\n",
      "On epoch 97\n",
      "On epoch 98\n",
      "On epoch 99\n"
     ]
    }
   ],
   "source": [
    "# training\n",
    "with tf.Session(config=tf.ConfigProto(gpu_options=gpu_options)) as sess:\n",
    "    # saver = tf.train.Saver()\n",
    "    sess.run(tf.global_variables_initializer())\n",
    "    for epoch in range(epoch):\n",
    "        \n",
    "        for i in range(mnist.train.num_examples//batch_size):\n",
    "        # for i in range(1):\n",
    "            \n",
    "            batch_data = mnist.train.next_batch(batch_size=batch_size)\n",
    "            ximage = batch_data[0].reshape((batch_size,784))\n",
    "            xsample = np.random.uniform(-1.,1.,size=(batch_size,100))\n",
    "            sess.run(doptimizer,feed_dict={real_image:ximage,z:xsample})\n",
    "            sess.run(goptimizer,feed_dict={z:xsample})\n",
    "            if(i%500==0 and epoch%10==0):\n",
    "                l1 = sess.run(dloss,feed_dict={real_image:ximage,z:xsample})\n",
    "                l2 = sess.run(gloss,feed_dict={z:xsample})\n",
    "                print(\"after {} losses : Descriptor : {} Generator : {}\\n\".format(i,l1,l2))\n",
    "        \n",
    "        print(\"On epoch {}\".format(epoch))\n",
    "        cur_sample = np.random.uniform(-1,1,size=(1,100))\n",
    "        gen_sample = sess.run(fake_image,feed_dict={z:cur_sample})\n",
    "        new_generated_images.append(gen_sample)\n",
    "    # saver.save(sess,\"./gan/mnist_gan_500.ckpt\")"
   ]
  },
  {
   "cell_type": "code",
   "execution_count": 23,
   "metadata": {},
   "outputs": [
    {
     "data": {
      "text/plain": [
       "<matplotlib.image.AxesImage at 0x7fc0b33cf2e8>"
      ]
     },
     "execution_count": 23,
     "metadata": {},
     "output_type": "execute_result"
    },
    {
     "data": {
      "image/png": "[encoded data removed]",
      "text/plain": [
       "<Figure size 432x288 with 1 Axes>"
      ]
     },
     "metadata": {},
     "output_type": "display_data"
    }
   ],
   "source": [
    "plt.imshow(new_generated_images[1].reshape(28,28))"
   ]
  },
  {
   "cell_type": "code",
   "execution_count": 38,
   "metadata": {},
   "outputs": [
    {
     "data": {
      "text/plain": [
       "<matplotlib.image.AxesImage at 0x7fc0a86a87f0>"
      ]
     },
     "execution_count": 38,
     "metadata": {},
     "output_type": "execute_result"
    },
    {
     "data": {
      "image/png": "[encoded data removed]",
      "text/plain": [
       "<Figure size 576x576 with 4 Axes>"
      ]
     },
     "metadata": {},
     "output_type": "display_data"
    }
   ],
   "source": [
    "plt.figure(figsize=(8,8))\n",
    "plt.subplot(1,4,1)\n",
    "plt.imshow(new_generated_images[2].reshape(28,28))\n",
    "plt.subplot(1,4,2)\n",
    "plt.imshow(new_generated_images[20].reshape(28,28))\n",
    "plt.subplot(1,4,3)\n",
    "plt.imshow(new_generated_images[62].reshape(28,28))\n",
    "plt.subplot(1,4,4)\n",
    "plt.imshow(new_generated_images[80].reshape(28,28))"
   ]
  },
  {
   "cell_type": "markdown",
   "metadata": {},
   "source": [
    "# previously generated images"
   ]
  },
  {
   "cell_type": "code",
   "execution_count": null,
   "metadata": {},
   "outputs": [],
   "source": [
    "len(generated_images)"
   ]
  },
  {
   "cell_type": "code",
   "execution_count": 44,
   "metadata": {},
   "outputs": [],
   "source": [
    "# previously generated images conditioned on 1\n",
    "plt.figure()\n",
    "plt.subplot(3,3,1)\n",
    "plt.imshow(generated_images[32].reshape(28,28))\n",
    "plt.subplot(3,3,2)\n",
    "plt.imshow(generated_images[83].reshape(28,28))\n",
    "plt.subplot(3,3,3)\n",
    "plt.imshow(generated_images[283].reshape(28,28))\n",
    "plt.subplot(3,3,4)\n",
    "plt.imshow(generated_images[399].reshape(28,28))\n",
    "plt.subplot(3,3,5)\n",
    "plt.imshow(generated_images[400].reshape(28,28))\n",
    "plt.subplot(3,3,6)\n",
    "plt.imshow(generated_images[650].reshape(28,28))\n",
    "plt.subplot(3,3,7)\n",
    "plt.imshow(generated_images[769].reshape(28,28))\n",
    "plt.subplot(3,3,8)\n",
    "plt.imshow(generated_images[888].reshape(28,28))\n",
    "plt.subplot(3,3,9)\n",
    "plt.imshow(generated_images[999].reshape(28,28))"
   ]
  },
  {
   "cell_type": "code",
   "execution_count": null,
   "metadata": {},
   "outputs": [],
   "source": []
  },
  {
   "cell_type": "code",
   "execution_count": null,
   "metadata": {},
   "outputs": [],
   "source": []
  }
 ],
 "metadata": {
  "kernelspec": {
   "display_name": "Python 3",
   "language": "python",
   "name": "python3"
  },
  "language_info": {
   "codemirror_mode": {
    "name": "ipython",
    "version": 3
   },
   "file_extension": ".py",
   "mimetype": "text/x-python",
   "name": "python",
   "nbconvert_exporter": "python",
   "pygments_lexer": "ipython3",
   "version": "3.5.2"
  }
 },
 "nbformat": 4,
 "nbformat_minor": 2
}
