{
 "cells": [
  {
   "cell_type": "markdown",
   "metadata": {},
   "source": [
    "## ToDo"
   ]
  },
  {
   "cell_type": "code",
   "execution_count": null,
   "metadata": {},
   "outputs": [],
   "source": [
    "# keep the network same\n",
    "# add wasserstein loss\n",
    "# improved wgan\n",
    "# run and test\n",
    "# use batch normalization --> done\n",
    "\n",
    "# convert tflayers into native tensorflow"
   ]
  },
  {
   "cell_type": "markdown",
   "metadata": {},
   "source": [
    "## Model"
   ]
  },
  {
   "cell_type": "code",
   "execution_count": null,
   "metadata": {},
   "outputs": [],
   "source": [
    "# stretching the cells\n",
    "from IPython.core.display import display, HTML\n",
    "display(HTML(\"<style>.container { width:100% !important; }</style>\"))\n",
    "\n",
    "# cuda settings\n",
    "import os\n",
    "import tensorflow as tf\n",
    "os.environ[\"CUDA_VISIBLE_DEVICES\"]=\"1\"\n",
    "os.environ[\"CUDA_DEVICE_ORDER\"]=\"PCI_BUS_ID\"\n",
    "gpu_options = tf.GPUOptions(per_process_gpu_memory_fraction=0.70)"
   ]
  },
  {
   "cell_type": "code",
   "execution_count": null,
   "metadata": {},
   "outputs": [],
   "source": [
    "import numpy as np\n",
    "import cv2\n",
    "import matplotlib.pyplot as plt\n",
    "%matplotlib inline"
   ]
  },
  {
   "cell_type": "code",
   "execution_count": null,
   "metadata": {},
   "outputs": [],
   "source": [
    "image_size = 128\n",
    "alpha=0.00005\n",
    "c = 0.01\n",
    "batch_size = 64"
   ]
  },
  {
   "cell_type": "code",
   "execution_count": null,
   "metadata": {},
   "outputs": [],
   "source": [
    "# with batch normalization layer\n",
    "def Generator(z,reuse=None):\n",
    "    \n",
    "    with tf.variable_scope('gen',reuse=reuse):\n",
    "        \n",
    "        layer1 = tf.layers.dense(z,1024,activation=tf.nn.relu)\n",
    "        # reshaping the sample to 2d\n",
    "        layer1 = tf.reshape(layer1,shape=(-1,32,32,1))\n",
    "        layer1_bn = tf.layers.batch_normalization(layer1)\n",
    "        \n",
    "        layer2 = tf.layers.conv2d(layer1_bn,filters=32,kernel_size=(3,3),strides=(1,1),padding='same',activation=tf.nn.relu,use_bias=True)\n",
    "        layer2_bn = tf.layers.batch_normalization(layer2)\n",
    "        \n",
    "        # upsampling the data (64*64)\n",
    "        layer3 = tf.layers.conv2d_transpose(layer2_bn,filters=32,kernel_size=(3,3),strides=2,padding='same',activation=tf.nn.relu)\n",
    "        layer3_bn = tf.layers.batch_normalization(layer3)\n",
    "        \n",
    "        # simple convolution layer 64*64\n",
    "        layer4 = tf.layers.conv2d(layer3_bn,filters=64,kernel_size=(3,3),strides=1,padding='same',activation=tf.nn.relu)\n",
    "        # not applying batch_norm to generator output layer\n",
    "        \n",
    "        # output shape (-1,128,128,3)\n",
    "        output = tf.layers.conv2d_transpose(layer4,filters=3,kernel_size=(3,3),strides=2,padding='same',activation=tf.nn.tanh)\n",
    "        \n",
    "        #(-1,128,128,3)\n",
    "        return output"
   ]
  },
  {
   "cell_type": "code",
   "execution_count": null,
   "metadata": {},
   "outputs": [],
   "source": [
    "def Discriminator(X,reuse=None):\n",
    "    \n",
    "    with tf.variable_scope('dis',reuse=reuse):\n",
    "\n",
    "        # not applying batch norm to discrimator input layer\n",
    "        #downsampling to half 64*64\n",
    "        layer1 = tf.layers.conv2d(X,filters=32,kernel_size=(3,3),strides=2,padding='same',activation=tf.nn.leaky_relu)\n",
    "        layer1_bn = tf.layers.batch_normalization(layer1)\n",
    "\n",
    "        # downsampling to half 32*32\n",
    "        layer2 = tf.layers.conv2d(layer1_bn,filters=64,kernel_size=(3,3),strides=2,padding='same',activation=tf.nn.leaky_relu)\n",
    "        layer2_bn = tf.layers.batch_normalization(layer2)\n",
    "        \n",
    "\n",
    "        # downsampling to half 16*16\n",
    "        layer3 = tf.layers.conv2d(layer2_bn,filters=128,kernel_size=(3,3),strides=2,padding='same',activation=tf.nn.leaky_relu)\n",
    "        layer3_bn = tf.layers.batch_normalization(layer3)\n",
    "        \n",
    "        \n",
    "        # downsampling to half 8*8\n",
    "        layer4 = tf.layers.conv2d(layer3_bn,filters=128,kernel_size=(3,3),strides=2,padding='same',activation=tf.nn.leaky_relu)\n",
    "        layer4_bn = tf.layers.batch_normalization(layer4)\n",
    "        \n",
    "\n",
    "        # fully connected layer 1*1*1024\n",
    "        layer5 = tf.layers.conv2d(layer4_bn,filters=1024,kernel_size=(8,8),strides=1,padding='valid',activation=tf.nn.leaky_relu)\n",
    "        layer5_bn = tf.layers.batch_normalization(layer5)\n",
    "        \n",
    "\n",
    "        # final output layer (1*1*1)\n",
    "        output = tf.layers.conv2d(layer5_bn,filters=1,kernel_size=(1,1),strides=1,padding='valid')\n",
    "        \n",
    "        # flattening the output layer (1)\n",
    "        output = tf.layers.flatten(output)\n",
    "        \n",
    "        return output"
   ]
  },
  {
   "cell_type": "code",
   "execution_count": null,
   "metadata": {},
   "outputs": [],
   "source": [
    "# placeholders\n",
    "with tf.name_scope('placeholders'):\n",
    "    # input image placholder\n",
    "    real_image=tf.placeholder(tf.float32,shape=(None,128,128,3))\n",
    "    # random sample placeholder\n",
    "    z = tf.placeholder(tf.float32,shape=(None,100))"
   ]
  },
  {
   "cell_type": "code",
   "execution_count": null,
   "metadata": {},
   "outputs": [],
   "source": [
    "# logits\n",
    "fake_image = Generator(z)\n",
    "\n",
    "real_logit = Discriminator(real_image)\n",
    "fake_logit = Discriminator(fake_image,reuse=True)"
   ]
  },
  {
   "cell_type": "code",
   "execution_count": null,
   "metadata": {},
   "outputs": [],
   "source": [
    "with tf.name_scope('variables'):\n",
    "    allvars = tf.trainable_variables()\n",
    "    dvars = [var for var in allvars if 'dis' in var.name]\n",
    "    gvars = [var for var in allvars if 'gen' in var.name]"
   ]
  },
  {
   "cell_type": "code",
   "execution_count": null,
   "metadata": {},
   "outputs": [],
   "source": [
    "# using our new definition of loss\n",
    "# wasserstein loss\n",
    "with tf.name_scope('loss'):\n",
    "    \n",
    "    # maximize the descriminator loss\n",
    "    dloss = tf.reduce_mean(real_logit)-tf.reduce_mean(fake_logit)\n",
    "    \n",
    "    # minimize the generator loss\n",
    "    gloss = -tf.reduce_mean(fake_logit)"
   ]
  },
  {
   "cell_type": "code",
   "execution_count": null,
   "metadata": {},
   "outputs": [],
   "source": [
    "# for lipschitz continuity\n",
    "# skipping the details for now\n",
    "\n",
    "clip_d = [p.assign(tf.clip_by_value(p,-0.01,0.01)) for p in dvars]"
   ]
  },
  {
   "cell_type": "code",
   "execution_count": null,
   "metadata": {},
   "outputs": [],
   "source": [
    "with tf.variable_scope('optimizers',reuse=tf.AUTO_REUSE):\n",
    "    doptimizer = tf.train.RMSPropOptimizer(learning_rate=alpha).minimize(-dloss,var_list=dvars)\n",
    "    goptimizer = tf.train.RMSPropOptimizer(learning_rate=alpha).minimize(gloss,var_list=gvars)"
   ]
  },
  {
   "cell_type": "code",
   "execution_count": null,
   "metadata": {},
   "outputs": [],
   "source": [
    "# input queue \n",
    "import glob\n",
    "image_path = glob.glob('../data/celebA/*.jpg')\n",
    "# # image_path = image_path[:1000]\n",
    "Dataset =  tf.data.Dataset\n",
    "Iterator = tf.data.Iterator\n",
    "\n",
    "train_data = Dataset.from_tensor_slices(image_path)\n",
    "\n",
    "def input_parser(img_path):\n",
    "    # read the img from file\n",
    "    img_file = tf.read_file(img_path)\n",
    "    img_decoded = tf.image.decode_jpeg(img_file, channels=3)\n",
    "    img_reshaped = tf.image.resize_images(img_decoded,size=(128,128))\n",
    "\n",
    "    return img_reshaped\n",
    "\n",
    "def input_preprocess(img):\n",
    "    img = tf.divide(img,255)\n",
    "    img = tf.subtract(tf.multiply(img,2),1) # scali ng the image in the tanh range\n",
    "    \n",
    "    return img\n",
    "\n",
    "train_data = train_data.map(input_parser)\n",
    "train_data = train_data.map(input_preprocess)\n",
    "train_data = train_data.batch(batch_size)\n",
    "train_data = train_data.prefetch(1)\n",
    "iterator = Iterator.from_structure(train_data.output_types,train_data.output_shapes)\n",
    "next_element = iterator.get_next()\n",
    "\n",
    "training_init_op = iterator.make_initializer(train_data)\n",
    "init_op = tf.global_variables_initializer()"
   ]
  },
  {
   "cell_type": "code",
   "execution_count": null,
   "metadata": {},
   "outputs": [],
   "source": [
    "plt.imshow(cv2.imread(image_path[3]))"
   ]
  },
  {
   "cell_type": "code",
   "execution_count": null,
   "metadata": {},
   "outputs": [],
   "source": [
    "total_epoch = 20\n",
    "ncritic = 5\n",
    "generated_images = []"
   ]
  },
  {
   "cell_type": "code",
   "execution_count": null,
   "metadata": {},
   "outputs": [],
   "source": [
    "with tf.Session() as sess:\n",
    "    sess.run(init_op)\n",
    "    sess.run(training_init_op)\n",
    "    \n",
    "    ximage = sess.run(next_element)\n",
    "    xsample = np.random.uniform(-1.,1.,size=(batch_size,100))\n",
    "    \n",
    "    print(sess.run(fake_image,{real_image:ximage,z:xsample}))\n",
    "        "
   ]
  },
  {
   "cell_type": "code",
   "execution_count": 46,
   "metadata": {},
   "outputs": [
    {
     "name": "stdout",
     "output_type": "stream",
     "text": [
      "<---- Started training ... .! ----> \n",
      "\n",
      "after 100 iterations --> losses : Descriptor : 4.894145604339428e-06 Generator : -1.257527583220508e-05\n",
      "after 200 iterations --> losses : Descriptor : 0.017941493541002274 Generator : 0.008472836576402187\n",
      "after 300 iterations --> losses : Descriptor : 34063.953125 Generator : -197.63009643554688\n",
      "after 400 iterations --> losses : Descriptor : 2830801.75 Generator : -2199.11962890625\n",
      "after 500 iterations --> losses : Descriptor : 32456710.0 Generator : -20993.068359375\n",
      "after 600 iterations --> losses : Descriptor : 138273312.0 Generator : -121790.8359375\n",
      "after 100 iterations --> losses : Descriptor : 247845328.0 Generator : -55205924.0\n",
      "after 200 iterations --> losses : Descriptor : 7653024.0 Generator : -323045696.0\n",
      "after 300 iterations --> losses : Descriptor : -5300725.0 Generator : -13412276.0\n",
      "after 400 iterations --> losses : Descriptor : 28694.03125 Generator : -29048.09375\n",
      "after 500 iterations --> losses : Descriptor : 16202809.0 Generator : 236281.28125\n",
      "after 600 iterations --> losses : Descriptor : 153865536.0 Generator : 676691.0625\n",
      "\n",
      "End of epoch 1 !!\n",
      "total image trained on : 202624\n",
      "\n",
      "after 100 iterations --> losses : Descriptor : -7311596.0 Generator : -51520400.0\n",
      "after 200 iterations --> losses : Descriptor : 1548509.75 Generator : -1735706.0\n",
      "after 300 iterations --> losses : Descriptor : 92679008.0 Generator : 304655.0\n",
      "after 400 iterations --> losses : Descriptor : 237772784.0 Generator : 485622.90625\n",
      "after 500 iterations --> losses : Descriptor : 435955264.0 Generator : 1345842.25\n",
      "after 600 iterations --> losses : Descriptor : 21283584.0 Generator : -380474016.0\n",
      "\n",
      "End of epoch 2 !!\n",
      "total image trained on : 202624\n",
      "\n",
      "after 100 iterations --> losses : Descriptor : -3750359.5 Generator : -7198748.5\n",
      "after 200 iterations --> losses : Descriptor : -9551.857421875 Generator : -14322.607421875\n",
      "after 300 iterations --> losses : Descriptor : 27629.42578125 Generator : 4001.138427734375\n",
      "after 400 iterations --> losses : Descriptor : 1054119.0 Generator : -11545736.0\n",
      "after 500 iterations --> losses : Descriptor : 189985.09375 Generator : -328348.875\n",
      "after 600 iterations --> losses : Descriptor : 5283645.5 Generator : -108938.375\n",
      "\n",
      "End of epoch 3 !!\n",
      "total image trained on : 202624\n",
      "\n",
      "after 100 iterations --> losses : Descriptor : 319584.25 Generator : -76075.765625\n",
      "after 200 iterations --> losses : Descriptor : 1538987.5 Generator : 510418.6875\n",
      "after 300 iterations --> losses : Descriptor : 2626945.5 Generator : -2100322.0\n",
      "after 400 iterations --> losses : Descriptor : 36720392.0 Generator : -1729094.75\n",
      "after 600 iterations --> losses : Descriptor : -15055213.0 Generator : -20556638.0\n",
      "\n",
      "End of epoch 4 !!\n",
      "total image trained on : 202624\n",
      "\n",
      "after 100 iterations --> losses : Descriptor : 1302241.625 Generator : 128532.859375\n",
      "after 200 iterations --> losses : Descriptor : 12051314.0 Generator : -15906780.0\n",
      "after 300 iterations --> losses : Descriptor : 150000464.0 Generator : 206955.46875\n",
      "after 400 iterations --> losses : Descriptor : -200878800.0 Generator : -308121504.0\n",
      "after 500 iterations --> losses : Descriptor : -5197028.5 Generator : -6306100.0\n",
      "after 600 iterations --> losses : Descriptor : 268380.5625 Generator : 57613.5859375\n",
      "\n",
      "End of epoch 5 !!\n",
      "total image trained on : 202624\n",
      "\n",
      "after 100 iterations --> losses : Descriptor : -40486.09375 Generator : -232185.3125\n",
      "after 200 iterations --> losses : Descriptor : 34629.34375 Generator : -204957.1875\n",
      "after 300 iterations --> losses : Descriptor : 3470674.0 Generator : -4849753.0\n",
      "after 400 iterations --> losses : Descriptor : 4856874.0 Generator : -19667692.0\n",
      "after 500 iterations --> losses : Descriptor : 10183440.0 Generator : -18835850.0\n",
      "after 600 iterations --> losses : Descriptor : -6130981.0 Generator : -18653676.0\n",
      "\n",
      "End of epoch 6 !!\n",
      "total image trained on : 202624\n",
      "\n",
      "after 100 iterations --> losses : Descriptor : -1873206.0 Generator : -7964498.0\n",
      "after 200 iterations --> losses : Descriptor : 6402339.0 Generator : -4874131.0\n",
      "after 300 iterations --> losses : Descriptor : -346852.625 Generator : -1139193.0\n",
      "after 400 iterations --> losses : Descriptor : 721186.0 Generator : -6336026.0\n",
      "after 500 iterations --> losses : Descriptor : 643211.4375 Generator : -375328.125\n",
      "after 600 iterations --> losses : Descriptor : -4794053.0 Generator : -6636480.0\n",
      "\n",
      "End of epoch 7 !!\n",
      "total image trained on : 202624\n",
      "\n",
      "after 100 iterations --> losses : Descriptor : -491126.25 Generator : -1504206.0\n",
      "after 200 iterations --> losses : Descriptor : 21394996.0 Generator : 302457.3125\n",
      "after 300 iterations --> losses : Descriptor : -4210799.0 Generator : -6104105.0\n",
      "after 400 iterations --> losses : Descriptor : 1115913.75 Generator : -722876.9375\n",
      "after 500 iterations --> losses : Descriptor : 579141.125 Generator : -331276.65625\n",
      "after 600 iterations --> losses : Descriptor : -13610684.0 Generator : -18917424.0\n",
      "\n",
      "End of epoch 8 !!\n",
      "total image trained on : 202624\n",
      "\n",
      "after 100 iterations --> losses : Descriptor : 423013.21875 Generator : -336812.9375\n",
      "after 200 iterations --> losses : Descriptor : 11560246.0 Generator : -1704406.0\n",
      "after 300 iterations --> losses : Descriptor : -36133884.0 Generator : -53502516.0\n",
      "after 400 iterations --> losses : Descriptor : 187617.859375 Generator : -156504.46875\n",
      "after 500 iterations --> losses : Descriptor : 699886.125 Generator : -1136395.625\n",
      "after 600 iterations --> losses : Descriptor : 121094712.0 Generator : -652116.875\n",
      "\n",
      "End of epoch 9 !!\n",
      "total image trained on : 202624\n",
      "\n",
      "after 100 iterations --> losses : Descriptor : -693585.25 Generator : -1218494.0\n",
      "after 200 iterations --> losses : Descriptor : -242697.875 Generator : -1125286.25\n",
      "after 300 iterations --> losses : Descriptor : 49268768.0 Generator : -2839288.0\n",
      "after 400 iterations --> losses : Descriptor : -18029304.0 Generator : -25803064.0\n",
      "after 500 iterations --> losses : Descriptor : 1783388.75 Generator : -150117.71875\n",
      "after 600 iterations --> losses : Descriptor : 71225424.0 Generator : -10101976.0\n",
      "\n",
      "End of epoch 10 !!\n",
      "total image trained on : 202624\n",
      "\n",
      "after 100 iterations --> losses : Descriptor : -20189936.0 Generator : -29510536.0\n",
      "after 200 iterations --> losses : Descriptor : 1015750.375 Generator : 5174.630859375\n",
      "after 300 iterations --> losses : Descriptor : 608407.3125 Generator : -800120.25\n",
      "after 400 iterations --> losses : Descriptor : -1696232.75 Generator : -2764915.25\n",
      "after 500 iterations --> losses : Descriptor : -558696.375 Generator : -1976970.625\n",
      "after 600 iterations --> losses : Descriptor : 68686.0 Generator : -489361.84375\n",
      "\n",
      "End of epoch 11 !!\n",
      "total image trained on : 202624\n",
      "\n",
      "after 100 iterations --> losses : Descriptor : -786552.25 Generator : -2536891.25\n",
      "after 200 iterations --> losses : Descriptor : -335132.375 Generator : -1385885.5\n",
      "after 300 iterations --> losses : Descriptor : -1448007.0 Generator : -3300272.0\n",
      "after 400 iterations --> losses : Descriptor : 966033.0 Generator : -1840193.0\n",
      "after 500 iterations --> losses : Descriptor : -392847.75 Generator : -2446033.0\n",
      "after 600 iterations --> losses : Descriptor : -791594.0 Generator : -5656660.5\n",
      "\n",
      "End of epoch 12 !!\n",
      "total image trained on : 202624\n",
      "\n",
      "after 100 iterations --> losses : Descriptor : -1810831.0 Generator : -6297625.0\n",
      "after 200 iterations --> losses : Descriptor : 5366960.0 Generator : -830495.5\n",
      "after 300 iterations --> losses : Descriptor : -688752.0 Generator : -4126108.5\n",
      "after 400 iterations --> losses : Descriptor : -6659292.5 Generator : -12661778.0\n",
      "after 500 iterations --> losses : Descriptor : 5131919.5 Generator : -3843130.5\n",
      "after 600 iterations --> losses : Descriptor : 1347767.75 Generator : -4004022.5\n",
      "\n",
      "End of epoch 13 !!\n",
      "total image trained on : 202624\n",
      "\n",
      "after 100 iterations --> losses : Descriptor : 6128032.5 Generator : -4157819.25\n",
      "after 200 iterations --> losses : Descriptor : 2707991.5 Generator : -4542016.0\n",
      "after 300 iterations --> losses : Descriptor : -321795.0 Generator : -6039181.0\n",
      "after 400 iterations --> losses : Descriptor : -3183280.0 Generator : -11316286.0\n",
      "after 500 iterations --> losses : Descriptor : -5549203.0 Generator : -17787992.0\n",
      "after 600 iterations --> losses : Descriptor : 1610018.0 Generator : -14095173.0\n",
      "\n",
      "End of epoch 14 !!\n",
      "total image trained on : 202624\n",
      "\n",
      "after 100 iterations --> losses : Descriptor : -1239732.0 Generator : -10669809.0\n",
      "after 200 iterations --> losses : Descriptor : -5793750.0 Generator : -19462576.0\n",
      "after 300 iterations --> losses : Descriptor : -9101736.0 Generator : -27900444.0\n",
      "after 400 iterations --> losses : Descriptor : -10171404.0 Generator : -31396972.0\n",
      "after 500 iterations --> losses : Descriptor : -8600562.0 Generator : -30418592.0\n",
      "after 600 iterations --> losses : Descriptor : -2118732.0 Generator : -19412664.0\n",
      "\n",
      "End of epoch 15 !!\n",
      "total image trained on : 202624\n",
      "\n",
      "after 100 iterations --> losses : Descriptor : 8726124.0 Generator : -14149186.0\n",
      "after 200 iterations --> losses : Descriptor : 10924468.0 Generator : -29366134.0\n",
      "after 300 iterations --> losses : Descriptor : -16385604.0 Generator : -49948312.0\n",
      "after 400 iterations --> losses : Descriptor : -9472244.0 Generator : -37377952.0\n",
      "after 500 iterations --> losses : Descriptor : -2854092.0 Generator : -28592378.0\n",
      "after 600 iterations --> losses : Descriptor : 3119896.0 Generator : -23622260.0\n",
      "\n",
      "End of epoch 16 !!\n",
      "total image trained on : 202624\n",
      "\n"
     ]
    },
    {
     "ename": "KeyboardInterrupt",
     "evalue": "",
     "output_type": "error",
     "traceback": [
      "\u001b[0;31m---------------------------------------------------------------------------\u001b[0m",
      "\u001b[0;31mKeyboardInterrupt\u001b[0m                         Traceback (most recent call last)",
      "\u001b[0;32m<ipython-input-46-ad7bd5cda416>\u001b[0m in \u001b[0;36m<module>\u001b[0;34m()\u001b[0m\n\u001b[1;32m     19\u001b[0m                 \u001b[0mcount\u001b[0m \u001b[0;34m+=\u001b[0m \u001b[0;36m1\u001b[0m\u001b[0;34m\u001b[0m\u001b[0m\n\u001b[1;32m     20\u001b[0m                 \u001b[0mxsample\u001b[0m \u001b[0;34m=\u001b[0m \u001b[0mnp\u001b[0m\u001b[0;34m.\u001b[0m\u001b[0mrandom\u001b[0m\u001b[0;34m.\u001b[0m\u001b[0muniform\u001b[0m\u001b[0;34m(\u001b[0m\u001b[0;34m-\u001b[0m\u001b[0;36m1.\u001b[0m\u001b[0;34m,\u001b[0m\u001b[0;36m1.\u001b[0m\u001b[0;34m,\u001b[0m\u001b[0msize\u001b[0m\u001b[0;34m=\u001b[0m\u001b[0;34m(\u001b[0m\u001b[0mbatch_size\u001b[0m\u001b[0;34m,\u001b[0m\u001b[0;36m100\u001b[0m\u001b[0;34m)\u001b[0m\u001b[0;34m)\u001b[0m\u001b[0;34m\u001b[0m\u001b[0m\n\u001b[0;32m---> 21\u001b[0;31m                 \u001b[0m_\u001b[0m\u001b[0;34m,\u001b[0m\u001b[0ml1\u001b[0m\u001b[0;34m,\u001b[0m\u001b[0m_\u001b[0m \u001b[0;34m=\u001b[0m \u001b[0msess\u001b[0m\u001b[0;34m.\u001b[0m\u001b[0mrun\u001b[0m\u001b[0;34m(\u001b[0m\u001b[0;34m[\u001b[0m\u001b[0mdoptimizer\u001b[0m\u001b[0;34m,\u001b[0m\u001b[0mdloss\u001b[0m\u001b[0;34m,\u001b[0m\u001b[0mclip_d\u001b[0m\u001b[0;34m]\u001b[0m\u001b[0;34m,\u001b[0m\u001b[0mfeed_dict\u001b[0m\u001b[0;34m=\u001b[0m\u001b[0;34m{\u001b[0m\u001b[0mreal_image\u001b[0m\u001b[0;34m:\u001b[0m\u001b[0mximage\u001b[0m\u001b[0;34m,\u001b[0m\u001b[0mz\u001b[0m\u001b[0;34m:\u001b[0m\u001b[0mxsample\u001b[0m\u001b[0;34m}\u001b[0m\u001b[0;34m)\u001b[0m\u001b[0;34m\u001b[0m\u001b[0m\n\u001b[0m\u001b[1;32m     22\u001b[0m \u001b[0;34m\u001b[0m\u001b[0m\n\u001b[1;32m     23\u001b[0m             \u001b[0;32mexcept\u001b[0m \u001b[0mtf\u001b[0m\u001b[0;34m.\u001b[0m\u001b[0merrors\u001b[0m\u001b[0;34m.\u001b[0m\u001b[0mOutOfRangeError\u001b[0m\u001b[0;34m:\u001b[0m\u001b[0;34m\u001b[0m\u001b[0m\n",
      "\u001b[0;32m/usr/local/lib/python3.5/dist-packages/tensorflow/python/client/session.py\u001b[0m in \u001b[0;36mrun\u001b[0;34m(self, fetches, feed_dict, options, run_metadata)\u001b[0m\n\u001b[1;32m    898\u001b[0m     \u001b[0;32mtry\u001b[0m\u001b[0;34m:\u001b[0m\u001b[0;34m\u001b[0m\u001b[0m\n\u001b[1;32m    899\u001b[0m       result = self._run(None, fetches, feed_dict, options_ptr,\n\u001b[0;32m--> 900\u001b[0;31m                          run_metadata_ptr)\n\u001b[0m\u001b[1;32m    901\u001b[0m       \u001b[0;32mif\u001b[0m \u001b[0mrun_metadata\u001b[0m\u001b[0;34m:\u001b[0m\u001b[0;34m\u001b[0m\u001b[0m\n\u001b[1;32m    902\u001b[0m         \u001b[0mproto_data\u001b[0m \u001b[0;34m=\u001b[0m \u001b[0mtf_session\u001b[0m\u001b[0;34m.\u001b[0m\u001b[0mTF_GetBuffer\u001b[0m\u001b[0;34m(\u001b[0m\u001b[0mrun_metadata_ptr\u001b[0m\u001b[0;34m)\u001b[0m\u001b[0;34m\u001b[0m\u001b[0m\n",
      "\u001b[0;32m/usr/local/lib/python3.5/dist-packages/tensorflow/python/client/session.py\u001b[0m in \u001b[0;36m_run\u001b[0;34m(self, handle, fetches, feed_dict, options, run_metadata)\u001b[0m\n\u001b[1;32m   1133\u001b[0m     \u001b[0;32mif\u001b[0m \u001b[0mfinal_fetches\u001b[0m \u001b[0;32mor\u001b[0m \u001b[0mfinal_targets\u001b[0m \u001b[0;32mor\u001b[0m \u001b[0;34m(\u001b[0m\u001b[0mhandle\u001b[0m \u001b[0;32mand\u001b[0m \u001b[0mfeed_dict_tensor\u001b[0m\u001b[0;34m)\u001b[0m\u001b[0;34m:\u001b[0m\u001b[0;34m\u001b[0m\u001b[0m\n\u001b[1;32m   1134\u001b[0m       results = self._do_run(handle, final_targets, final_fetches,\n\u001b[0;32m-> 1135\u001b[0;31m                              feed_dict_tensor, options, run_metadata)\n\u001b[0m\u001b[1;32m   1136\u001b[0m     \u001b[0;32melse\u001b[0m\u001b[0;34m:\u001b[0m\u001b[0;34m\u001b[0m\u001b[0m\n\u001b[1;32m   1137\u001b[0m       \u001b[0mresults\u001b[0m \u001b[0;34m=\u001b[0m \u001b[0;34m[\u001b[0m\u001b[0;34m]\u001b[0m\u001b[0;34m\u001b[0m\u001b[0m\n",
      "\u001b[0;32m/usr/local/lib/python3.5/dist-packages/tensorflow/python/client/session.py\u001b[0m in \u001b[0;36m_do_run\u001b[0;34m(self, handle, target_list, fetch_list, feed_dict, options, run_metadata)\u001b[0m\n\u001b[1;32m   1314\u001b[0m     \u001b[0;32mif\u001b[0m \u001b[0mhandle\u001b[0m \u001b[0;32mis\u001b[0m \u001b[0;32mNone\u001b[0m\u001b[0;34m:\u001b[0m\u001b[0;34m\u001b[0m\u001b[0m\n\u001b[1;32m   1315\u001b[0m       return self._do_call(_run_fn, feeds, fetches, targets, options,\n\u001b[0;32m-> 1316\u001b[0;31m                            run_metadata)\n\u001b[0m\u001b[1;32m   1317\u001b[0m     \u001b[0;32melse\u001b[0m\u001b[0;34m:\u001b[0m\u001b[0;34m\u001b[0m\u001b[0m\n\u001b[1;32m   1318\u001b[0m       \u001b[0;32mreturn\u001b[0m \u001b[0mself\u001b[0m\u001b[0;34m.\u001b[0m\u001b[0m_do_call\u001b[0m\u001b[0;34m(\u001b[0m\u001b[0m_prun_fn\u001b[0m\u001b[0;34m,\u001b[0m \u001b[0mhandle\u001b[0m\u001b[0;34m,\u001b[0m \u001b[0mfeeds\u001b[0m\u001b[0;34m,\u001b[0m \u001b[0mfetches\u001b[0m\u001b[0;34m)\u001b[0m\u001b[0;34m\u001b[0m\u001b[0m\n",
      "\u001b[0;32m/usr/local/lib/python3.5/dist-packages/tensorflow/python/client/session.py\u001b[0m in \u001b[0;36m_do_call\u001b[0;34m(self, fn, *args)\u001b[0m\n\u001b[1;32m   1320\u001b[0m   \u001b[0;32mdef\u001b[0m \u001b[0m_do_call\u001b[0m\u001b[0;34m(\u001b[0m\u001b[0mself\u001b[0m\u001b[0;34m,\u001b[0m \u001b[0mfn\u001b[0m\u001b[0;34m,\u001b[0m \u001b[0;34m*\u001b[0m\u001b[0margs\u001b[0m\u001b[0;34m)\u001b[0m\u001b[0;34m:\u001b[0m\u001b[0;34m\u001b[0m\u001b[0m\n\u001b[1;32m   1321\u001b[0m     \u001b[0;32mtry\u001b[0m\u001b[0;34m:\u001b[0m\u001b[0;34m\u001b[0m\u001b[0m\n\u001b[0;32m-> 1322\u001b[0;31m       \u001b[0;32mreturn\u001b[0m \u001b[0mfn\u001b[0m\u001b[0;34m(\u001b[0m\u001b[0;34m*\u001b[0m\u001b[0margs\u001b[0m\u001b[0;34m)\u001b[0m\u001b[0;34m\u001b[0m\u001b[0m\n\u001b[0m\u001b[1;32m   1323\u001b[0m     \u001b[0;32mexcept\u001b[0m \u001b[0merrors\u001b[0m\u001b[0;34m.\u001b[0m\u001b[0mOpError\u001b[0m \u001b[0;32mas\u001b[0m \u001b[0me\u001b[0m\u001b[0;34m:\u001b[0m\u001b[0;34m\u001b[0m\u001b[0m\n\u001b[1;32m   1324\u001b[0m       \u001b[0mmessage\u001b[0m \u001b[0;34m=\u001b[0m \u001b[0mcompat\u001b[0m\u001b[0;34m.\u001b[0m\u001b[0mas_text\u001b[0m\u001b[0;34m(\u001b[0m\u001b[0me\u001b[0m\u001b[0;34m.\u001b[0m\u001b[0mmessage\u001b[0m\u001b[0;34m)\u001b[0m\u001b[0;34m\u001b[0m\u001b[0m\n",
      "\u001b[0;32m/usr/local/lib/python3.5/dist-packages/tensorflow/python/client/session.py\u001b[0m in \u001b[0;36m_run_fn\u001b[0;34m(feed_dict, fetch_list, target_list, options, run_metadata)\u001b[0m\n\u001b[1;32m   1305\u001b[0m       \u001b[0mself\u001b[0m\u001b[0;34m.\u001b[0m\u001b[0m_extend_graph\u001b[0m\u001b[0;34m(\u001b[0m\u001b[0;34m)\u001b[0m\u001b[0;34m\u001b[0m\u001b[0m\n\u001b[1;32m   1306\u001b[0m       return self._call_tf_sessionrun(\n\u001b[0;32m-> 1307\u001b[0;31m           options, feed_dict, fetch_list, target_list, run_metadata)\n\u001b[0m\u001b[1;32m   1308\u001b[0m \u001b[0;34m\u001b[0m\u001b[0m\n\u001b[1;32m   1309\u001b[0m     \u001b[0;32mdef\u001b[0m \u001b[0m_prun_fn\u001b[0m\u001b[0;34m(\u001b[0m\u001b[0mhandle\u001b[0m\u001b[0;34m,\u001b[0m \u001b[0mfeed_dict\u001b[0m\u001b[0;34m,\u001b[0m \u001b[0mfetch_list\u001b[0m\u001b[0;34m)\u001b[0m\u001b[0;34m:\u001b[0m\u001b[0;34m\u001b[0m\u001b[0m\n",
      "\u001b[0;32m/usr/local/lib/python3.5/dist-packages/tensorflow/python/client/session.py\u001b[0m in \u001b[0;36m_call_tf_sessionrun\u001b[0;34m(self, options, feed_dict, fetch_list, target_list, run_metadata)\u001b[0m\n\u001b[1;32m   1407\u001b[0m       return tf_session.TF_SessionRun_wrapper(\n\u001b[1;32m   1408\u001b[0m           \u001b[0mself\u001b[0m\u001b[0;34m.\u001b[0m\u001b[0m_session\u001b[0m\u001b[0;34m,\u001b[0m \u001b[0moptions\u001b[0m\u001b[0;34m,\u001b[0m \u001b[0mfeed_dict\u001b[0m\u001b[0;34m,\u001b[0m \u001b[0mfetch_list\u001b[0m\u001b[0;34m,\u001b[0m \u001b[0mtarget_list\u001b[0m\u001b[0;34m,\u001b[0m\u001b[0;34m\u001b[0m\u001b[0m\n\u001b[0;32m-> 1409\u001b[0;31m           run_metadata)\n\u001b[0m\u001b[1;32m   1410\u001b[0m     \u001b[0;32melse\u001b[0m\u001b[0;34m:\u001b[0m\u001b[0;34m\u001b[0m\u001b[0m\n\u001b[1;32m   1411\u001b[0m       \u001b[0;32mwith\u001b[0m \u001b[0merrors\u001b[0m\u001b[0;34m.\u001b[0m\u001b[0mraise_exception_on_not_ok_status\u001b[0m\u001b[0;34m(\u001b[0m\u001b[0;34m)\u001b[0m \u001b[0;32mas\u001b[0m \u001b[0mstatus\u001b[0m\u001b[0;34m:\u001b[0m\u001b[0;34m\u001b[0m\u001b[0m\n",
      "\u001b[0;31mKeyboardInterrupt\u001b[0m: "
     ]
    }
   ],
   "source": [
    "with tf.Session(config=tf.ConfigProto(gpu_options=gpu_options)) as sess:\n",
    "    sess.run(init_op)\n",
    "    \n",
    "    flag=1\n",
    "    epoch = 0\n",
    "    iteration = 0\n",
    "    count=0\n",
    "    print(\"<---- Started training ... .! ----> \\n\")\n",
    "    while(epoch<total_epoch):\n",
    "        \n",
    "        if(flag):\n",
    "            sess.run(training_init_op)\n",
    "            flag=0\n",
    "\n",
    "        for _ in range(ncritic):\n",
    "            try:\n",
    "                # get the images\n",
    "                ximage = sess.run(next_element)\n",
    "                count += 1\n",
    "                xsample = np.random.uniform(-1.,1.,size=(batch_size,100))\n",
    "                _,l1,_ = sess.run([doptimizer,dloss,clip_d],feed_dict={real_image:ximage,z:xsample})\n",
    "\n",
    "            except tf.errors.OutOfRangeError:\n",
    "                print(\"\\nEnd of epoch {} !!\".format(epoch))\n",
    "                print(\"total image trained on : {}\\n\".format(count*batch_size))\n",
    "                epoch += 1\n",
    "                iteration,count=0,0\n",
    "                flag=1\n",
    "                break\n",
    "\n",
    "        xsample = np.random.uniform(-1.,1.,size=(batch_size,100))\n",
    "        _,l2 = sess.run([goptimizer,gloss],feed_dict={z:xsample})\n",
    "\n",
    "        iteration += 1\n",
    "        if(iteration % 100 == 0):\n",
    "            print(\"after {} iterations --> losses : Descriptor : {} Generator : {}\".format(iteration,l1,l2))\n",
    "\n",
    "            # tracking the image quality after (i) iteration\n",
    "            cur_sample = np.random.uniform(-1,1,size=(1,100))\n",
    "            gen_sample = sess.run(fake_image,feed_dict={z:cur_sample})\n",
    "            im = np.squeeze(gen_sample)\n",
    "            im = ((im+1)/2)*255\n",
    "            im = im.astype(int)\n",
    "            cv2.imwrite('samples/train_'+str(iteration)+'_'+str(epoch)+'.jpg',im)\n",
    "            generated_images.append(im)\n",
    "        \n",
    "    print(\"\\n <----- End of Training ... ----> !!\\n\")"
   ]
  },
  {
   "cell_type": "code",
   "execution_count": 47,
   "metadata": {},
   "outputs": [
    {
     "data": {
      "text/plain": [
       "102"
      ]
     },
     "execution_count": 47,
     "metadata": {},
     "output_type": "execute_result"
    }
   ],
   "source": [
    "len(generated_images)"
   ]
  },
  {
   "cell_type": "markdown",
   "metadata": {},
   "source": [
    "## Testing"
   ]
  },
  {
   "cell_type": "code",
   "execution_count": 49,
   "metadata": {},
   "outputs": [
    {
     "data": {
      "text/plain": [
       "<matplotlib.image.AxesImage at 0x7fdc973e4b00>"
      ]
     },
     "execution_count": 49,
     "metadata": {},
     "output_type": "execute_result"
    },
    {
     "data": {
      "image/png": "[encoded data removed]",
      "text/plain": [
       "<Figure size 432x288 with 1 Axes>"
      ]
     },
     "metadata": {},
     "output_type": "display_data"
    }
   ],
   "source": [
    "# plot the generated images\n",
    "plt.imshow(generated_images[101])"
   ]
  },
  {
   "cell_type": "code",
   "execution_count": null,
   "metadata": {},
   "outputs": [],
   "source": []
  }
 ],
 "metadata": {
  "kernelspec": {
   "display_name": "Python 3",
   "language": "python",
   "name": "python3"
  },
  "language_info": {
   "codemirror_mode": {
    "name": "ipython",
    "version": 3
   },
   "file_extension": ".py",
   "mimetype": "text/x-python",
   "name": "python",
   "nbconvert_exporter": "python",
   "pygments_lexer": "ipython3",
   "version": "3.5.2"
  }
 },
 "nbformat": 4,
 "nbformat_minor": 2
}
